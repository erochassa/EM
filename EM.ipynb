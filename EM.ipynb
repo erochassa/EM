{
 "cells": [
  {
   "cell_type": "markdown",
   "metadata": {},
   "source": [
    "For an introduction on EM algorithm see \"*What is the expectation maximization algorithm?*\" paper by **Chuong B Do & Serafim Batzoglou**:\n",
    "\n",
    "https://ai.stanford.edu/~chuongdo/papers/em_tutorial.pdf"
   ]
  },
  {
   "cell_type": "markdown",
   "metadata": {},
   "source": [
    "here you find a simple implementation of the example shown in that tutorial:"
   ]
  },
  {
   "cell_type": "code",
   "execution_count": 1,
   "metadata": {},
   "outputs": [],
   "source": [
    "import numpy as np\n",
    "import matplotlib.pyplot as plt\n",
    "%matplotlib inline"
   ]
  },
  {
   "cell_type": "code",
   "execution_count": 2,
   "metadata": {},
   "outputs": [],
   "source": [
    "NTOSSES=20 # number of tosses of each coin\n",
    "NSETS=10 # number of experiments in which we toss a coin NTOSSES times"
   ]
  },
  {
   "cell_type": "code",
   "execution_count": 3,
   "metadata": {},
   "outputs": [],
   "source": [
    "# probability of heads of each coin - this is not observed!\n",
    "coins={'A' : 0.3,\\\n",
    "       'B' : 0.7}"
   ]
  },
  {
   "cell_type": "code",
   "execution_count": 4,
   "metadata": {},
   "outputs": [],
   "source": [
    "# randomly choose a coin NSET times (with equal probability)\n",
    "z=np.random.choice(list(coins.keys()), NSETS, p=(0.5,0.5))"
   ]
  },
  {
   "cell_type": "code",
   "execution_count": 5,
   "metadata": {},
   "outputs": [
    {
     "data": {
      "text/plain": [
       "array(['B', 'B', 'B', 'A', 'B', 'B', 'A', 'B', 'B', 'B'], dtype='<U1')"
      ]
     },
     "execution_count": 5,
     "metadata": {},
     "output_type": "execute_result"
    }
   ],
   "source": [
    "z"
   ]
  },
  {
   "cell_type": "code",
   "execution_count": 6,
   "metadata": {},
   "outputs": [],
   "source": [
    "# toss each coin in z NTOSSES times\n",
    "x=np.array([np.random.binomial(1, coins[i], NTOSSES) for i in z])"
   ]
  },
  {
   "cell_type": "code",
   "execution_count": 7,
   "metadata": {},
   "outputs": [
    {
     "data": {
      "text/plain": [
       "array([[1, 0, 1, 1, 1, 1, 1, 1, 1, 0, 1, 1, 1, 1, 1, 0, 1, 0, 1, 1],\n",
       "       [1, 1, 1, 1, 0, 1, 1, 1, 1, 0, 1, 1, 1, 1, 1, 0, 1, 1, 1, 0],\n",
       "       [1, 1, 1, 1, 1, 0, 1, 0, 1, 1, 1, 1, 1, 0, 0, 1, 1, 1, 1, 0],\n",
       "       [0, 1, 1, 1, 0, 0, 0, 0, 0, 0, 0, 1, 0, 0, 0, 0, 0, 0, 0, 1],\n",
       "       [0, 0, 0, 1, 1, 0, 1, 0, 0, 1, 1, 1, 1, 1, 1, 1, 0, 1, 1, 0],\n",
       "       [1, 1, 1, 1, 0, 0, 1, 1, 1, 1, 1, 1, 1, 1, 1, 0, 1, 1, 1, 1],\n",
       "       [0, 0, 0, 1, 1, 0, 1, 1, 1, 0, 0, 0, 1, 1, 0, 1, 0, 1, 0, 1],\n",
       "       [1, 0, 1, 0, 1, 1, 1, 1, 1, 1, 0, 1, 1, 0, 1, 0, 1, 1, 1, 1],\n",
       "       [0, 1, 1, 1, 1, 1, 1, 0, 1, 0, 1, 1, 1, 0, 0, 0, 1, 1, 1, 1],\n",
       "       [0, 1, 1, 1, 0, 0, 1, 1, 1, 1, 1, 0, 0, 1, 1, 1, 1, 0, 1, 1]])"
      ]
     },
     "execution_count": 7,
     "metadata": {},
     "output_type": "execute_result"
    }
   ],
   "source": [
    "x"
   ]
  },
  {
   "cell_type": "code",
   "execution_count": 8,
   "metadata": {},
   "outputs": [],
   "source": [
    "# estimate the parameter of each coin *knowing* the coin used\n",
    "thetaA=np.sum(x[z=='A',:])/(np.sum((z=='A').astype(np.int)) * NTOSSES)\n",
    "thetaB=np.sum(x[z=='B',:])/(np.sum((z=='B').astype(np.int)) * NTOSSES)"
   ]
  },
  {
   "cell_type": "code",
   "execution_count": 9,
   "metadata": {},
   "outputs": [
    {
     "name": "stdout",
     "output_type": "stream",
     "text": [
      "0.375 0.74375\n"
     ]
    }
   ],
   "source": [
    "print(thetaA, thetaB)"
   ]
  },
  {
   "cell_type": "markdown",
   "metadata": {},
   "source": [
    "### Expectation maximization"
   ]
  },
  {
   "cell_type": "markdown",
   "metadata": {},
   "source": [
    "Now, suppose we don't know $z$. We only know that each coin is was drawn with equal probability. We only get to observe $x$."
   ]
  },
  {
   "cell_type": "markdown",
   "metadata": {},
   "source": [
    "let us guess some inital values for theta:"
   ]
  },
  {
   "cell_type": "code",
   "execution_count": 10,
   "metadata": {},
   "outputs": [],
   "source": [
    "guessThetaA=0.4\n",
    "guessThetaB=0.6"
   ]
  },
  {
   "cell_type": "markdown",
   "metadata": {},
   "source": [
    "Now we compute the probability of each coin (as specified by these guess parameters) given the observation (x).\n",
    "\n",
    "Rember that:\n",
    "\n",
    "\\begin{equation}\n",
    "p(\\text{coin}=A|\\text{observation}=x)=\\frac{p(\\text{observation}=x|\\text{coin}=A)p(coin=A)}{p(\\text{observation}=x|\\text{coin}=A)p(coin=A) + p(\\text{observation}=x|\\text{coin}=B)p(coin=B)}\n",
    "\\end{equation}\n",
    "\n",
    "Note that $p(\\text{observation}=x|\\text{coin}=A)$ is just a binomial with parameter `guessThetaA`. In addition, $p(coin=A)$ is half as specified previously.\n",
    "\n",
    "The same can be computed for $p(\\text{coin}=B|\\text{observation}=x)$"
   ]
  },
  {
   "cell_type": "code",
   "execution_count": 11,
   "metadata": {},
   "outputs": [],
   "source": [
    "pXgivenA=guessThetaA**np.sum(x, axis=1)*(1-guessThetaA)**np.sum(1.-x, axis=1)\n",
    "pXgivenB=guessThetaB**np.sum(x, axis=1)*(1-guessThetaB)**np.sum(1.-x, axis=1)\n",
    "pAgivenX=(pXgivenA*0.5)/(pXgivenA*0.5+pXgivenB*0.5)\n",
    "pBgivenX=(pXgivenB*0.5)/(pXgivenA*0.5+pXgivenB*0.5)"
   ]
  },
  {
   "cell_type": "markdown",
   "metadata": {},
   "source": [
    "Now we compute the expected numbers of heads and tails according to this distribution:"
   ]
  },
  {
   "cell_type": "code",
   "execution_count": 12,
   "metadata": {},
   "outputs": [],
   "source": [
    "CoinA_heads=np.sum(x, axis=1)*pAgivenX\n",
    "CoinA_tails=np.sum(1-x,axis=1)*pAgivenX\n",
    "CoinB_heads=np.sum(x, axis=1)*pBgivenX\n",
    "CoinB_tails=np.sum(1-x,axis=1)*pBgivenX"
   ]
  },
  {
   "cell_type": "markdown",
   "metadata": {},
   "source": [
    "With these expected values, we can compute new parameters:"
   ]
  },
  {
   "cell_type": "code",
   "execution_count": 13,
   "metadata": {},
   "outputs": [],
   "source": [
    "guessThetaA=np.sum(CoinA_heads)/(np.sum(CoinA_heads)+np.sum(CoinA_tails))\n",
    "guessThetaB=np.sum(CoinB_heads)/(np.sum(CoinB_heads)+np.sum(CoinB_tails))"
   ]
  },
  {
   "cell_type": "markdown",
   "metadata": {},
   "source": [
    "Iterate:"
   ]
  },
  {
   "cell_type": "code",
   "execution_count": 14,
   "metadata": {},
   "outputs": [],
   "source": [
    "for i in range(100):\n",
    "    pXgivenA=guessThetaA**np.sum(x, axis=1)*(1-guessThetaA)**np.sum(1.-x, axis=1)\n",
    "    pXgivenB=guessThetaB**np.sum(x, axis=1)*(1-guessThetaB)**np.sum(1.-x, axis=1)\n",
    "    pAgivenX=(pXgivenA*0.5)/(pXgivenA*0.5+pXgivenB*0.5)\n",
    "    pBgivenX=(pXgivenB*0.5)/(pXgivenA*0.5+pXgivenB*0.5)\n",
    "    \n",
    "    CoinA_heads=np.sum(x, axis=1)*pAgivenX\n",
    "    CoinA_tails=np.sum(1-x,axis=1)*pAgivenX\n",
    "    CoinB_heads=np.sum(x, axis=1)*pBgivenX\n",
    "    CoinB_tails=np.sum(1-x,axis=1)*pBgivenX\n",
    "    \n",
    "    guessThetaA=np.sum(CoinA_heads)/(np.sum(CoinA_heads)+np.sum(CoinA_tails))\n",
    "    guessThetaB=np.sum(CoinB_heads)/(np.sum(CoinB_heads)+np.sum(CoinB_tails))"
   ]
  },
  {
   "cell_type": "code",
   "execution_count": 15,
   "metadata": {},
   "outputs": [
    {
     "name": "stdout",
     "output_type": "stream",
     "text": [
      "0.441741912054951 0.7529957227878182\n"
     ]
    }
   ],
   "source": [
    "print(guessThetaA,guessThetaB)"
   ]
  },
  {
   "cell_type": "code",
   "execution_count": null,
   "metadata": {},
   "outputs": [],
   "source": []
  }
 ],
 "metadata": {
  "kernelspec": {
   "display_name": "Python 3",
   "language": "python",
   "name": "python3"
  },
  "language_info": {
   "codemirror_mode": {
    "name": "ipython",
    "version": 3
   },
   "file_extension": ".py",
   "mimetype": "text/x-python",
   "name": "python",
   "nbconvert_exporter": "python",
   "pygments_lexer": "ipython3",
   "version": "3.6.8"
  }
 },
 "nbformat": 4,
 "nbformat_minor": 2
}
